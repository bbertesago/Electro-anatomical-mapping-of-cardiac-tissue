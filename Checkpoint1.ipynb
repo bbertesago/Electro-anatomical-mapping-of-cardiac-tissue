{
 "cells": [
  {
   "cell_type": "markdown",
   "metadata": {},
   "source": [
    "# Checkpoint 1\n",
    "\n",
    "Implement here your algorithm to interpolate/extrapolate the activation time field from timings recorded in the 20 electrodes of the mapping catheter.\n",
    "\n",
    "The algorithm should output the following information:\n",
    "- a reconstruction of the activation times evaluated at each point of a structured grid on the square (-1.5, 1.5)x(-1.5, 1.5),\n",
    "- an approximation of the conduction velocity (a clinical biomarker) evaluated at each point of a structured grid on the same square.\n"
   ]
  },
  {
   "cell_type": "code",
   "execution_count": null,
   "metadata": {},
   "outputs": [],
   "source": [
    "import numpy as np\n",
    "import matplotlib.pyplot as plt\n",
    "import scipy.interpolate as spi\n",
    "\n",
    "from mpl_toolkits.mplot3d import Axes3D  # Ensure 3D plotting support"
   ]
  },
  {
   "cell_type": "code",
   "execution_count": null,
   "metadata": {},
   "outputs": [],
   "source": [
    "# Load the dataset\n",
    "CP1data = np.load(\"CP1data.npz\")['arr_0']"
   ]
  },
  {
   "cell_type": "markdown",
   "metadata": {},
   "source": [
    "## Display one recording"
   ]
  },
  {
   "cell_type": "code",
   "execution_count": null,
   "metadata": {},
   "outputs": [],
   "source": [
    "# Select an example recording for visualization\n",
    "ind_disp = 12  # Index of the sample to display\n",
    "x_meas = CP1data[ind_disp][0]  # X-coordinates of electrode measurements\n",
    "y_meas = CP1data[ind_disp][1]  # Y-coordinates of electrode measurements\n",
    "t_meas = CP1data[ind_disp][2]  # Activation times at each electrode"
   ]
  },
  {
   "cell_type": "code",
   "execution_count": null,
   "metadata": {},
   "outputs": [],
   "source": [
    "# Scatter plot of activation times at measurement points\n",
    "plt.figure(1)\n",
    "plt.scatter(x_meas, y_meas, c=t_meas, vmin=0, vmax=np.max(t_meas))\n",
    "plt.gca().set_aspect(1)\n",
    "plt.colorbar(label='Time [s]')\n",
    "plt.title(\"Measured Activation Times\")\n",
    "plt.show()"
   ]
  },
  {
   "cell_type": "markdown",
   "metadata": {},
   "source": [
    "## Signature of the function\n",
    "\n",
    "def checkpoint1_solution( x, y , t, X , Y ):\n",
    "\n",
    "return time_pred,vel_pred"
   ]
  },
  {
   "cell_type": "code",
   "execution_count": null,
   "metadata": {},
   "outputs": [],
   "source": [
    "# Create a structured grid for interpolation (1501x1501 points in a square region)\n",
    "X, Y = np.meshgrid(np.linspace(-1.5, 1.5, 1501), np.linspace(-1.5, 1.5, 1501))\n",
    "\n",
    "def checkpoint1_solution(x, y, t, X, Y):\n",
    "    \"\"\"\n",
    "    Function to interpolate activation times and compute conduction velocity.\n",
    "    \n",
    "    Parameters:\n",
    "    x, y, t : Measured data points (positions and activation times)\n",
    "    X, Y    : Grid points where predictions are made\n",
    "    \n",
    "    Returns:\n",
    "    time_pred    : Interpolated activation time field\n",
    "    vel_pred     : Estimated conduction velocity field\n",
    "    \"\"\"\n",
    "    # Interpolate activation times using radial basis function (thin plate spline)\n",
    "    interp = spi.RBFInterpolator(list(zip(x, y)), t, smoothing=0.1, kernel='thin_plate_spline', epsilon=1)\n",
    "    time_pred = interp(np.vstack((X.ravel(), Y.ravel())).T).reshape(X.shape)\n",
    "    \n",
    "    # Smoothed version of interpolation to reduce noise\n",
    "    interp_sm = spi.RBFInterpolator(list(zip(x, y)), t, smoothing=0.5, kernel='thin_plate_spline', epsilon=1)\n",
    "    time_pred_sm = interp_sm(np.vstack((X.ravel(), Y.ravel())).T).reshape(X.shape)\n",
    "    \n",
    "    # Compute gradients (approximating conduction velocity as inverse of gradient magnitude)\n",
    "    grad_x, grad_y = np.gradient(time_pred, (3.0/1500), axis=(0, 1))\n",
    "    vel_pred = 1.0 / (np.sqrt(grad_x**2 + grad_y**2) + 1e-4)  # Avoid division by zero\n",
    "    \n",
    "    # Compute smoothed conduction velocity\n",
    "    grad_x_sm, grad_y_sm = np.gradient(time_pred_sm, (3.0/1500), axis=(0, 1))\n",
    "    vel_pred_sm = 1.0 / (np.sqrt(grad_x_sm**2 + grad_y_sm**2) + 1e-4)\n",
    "    \n",
    "    # Weighted combination of original and smoothed conduction velocity\n",
    "    max_value_A = np.max(vel_pred)\n",
    "    weights = (vel_pred / max_value_A) ** 1.4 * 0.95  # Apply weighting factor\n",
    "    weighted_average = (vel_pred_sm * weights) + (vel_pred * (1 - weights))\n",
    "    \n",
    "    return time_pred, weighted_average"
   ]
  },
  {
   "cell_type": "code",
   "execution_count": null,
   "metadata": {},
   "outputs": [],
   "source": [
    "# Run the function on the selected data sample\n",
    "time_pred, vel_pred = checkpoint1_solution(x_meas, y_meas, t_meas, X, Y)"
   ]
  },
  {
   "cell_type": "code",
   "execution_count": null,
   "metadata": {},
   "outputs": [],
   "source": [
    "# Plot interpolated activation times\n",
    "plt.figure()\n",
    "plt.contour(X, Y, time_pred, 20)\n",
    "plt.scatter(x_meas, y_meas, c=t_meas, vmin=0, vmax=np.max(time_pred))\n",
    "plt.colorbar(label='Time [s]')\n",
    "plt.gca().set_aspect(1)\n",
    "plt.title('Activation Time Prediction')\n",
    "plt.show()"
   ]
  },
  {
   "cell_type": "code",
   "execution_count": null,
   "metadata": {},
   "outputs": [],
   "source": [
    "# 3D Surface Plot for Activation Times\n",
    "fig = plt.figure()\n",
    "ax = fig.add_subplot(111, projection='3d')\n",
    "ax.plot_surface(X, Y, time_pred, cmap='viridis')\n",
    "ax.set_xlabel('X')\n",
    "ax.set_ylabel('Y')\n",
    "ax.set_zlabel('Time [s]')\n",
    "ax.set_title('3D Activation Time Prediction')\n",
    "plt.show()"
   ]
  },
  {
   "cell_type": "code",
   "execution_count": null,
   "metadata": {},
   "outputs": [],
   "source": [
    "# 3D Surface Plot for Conduction Velocity\n",
    "fig = plt.figure()\n",
    "ax = fig.add_subplot(111, projection='3d')\n",
    "surf = ax.plot_surface(X, Y, vel_pred, cmap='viridis')\n",
    "ax.set_xlabel('X')\n",
    "ax.set_ylabel('Y')\n",
    "ax.set_zlabel('Velocity')\n",
    "ax.set_title('Conduction Velocity Prediction')\n",
    "fig.colorbar(surf, ax=ax, fraction=0.03, pad=0.1, label='Velocity')\n",
    "plt.show()"
   ]
  }
 ],
 "metadata": {
  "language_info": {
   "name": "python"
  }
 },
 "nbformat": 4,
 "nbformat_minor": 2
}
