{
 "cells": [
  {
   "cell_type": "markdown",
   "metadata": {
    "id": "Kaphxdvv87FP"
   },
   "source": [
    "# Checkpoint 2\n",
    "\n",
    "Implement here your algorithm to estimate the unknown parameters (fiber angle, anisotropy ratio and starting point position) from timings recorded in the 20 electrodes of the mapping catheter.\n",
    "\n",
    "The algorithm should output the following information:\n",
    "- your estimates of the fiber angle, anisotropy ratio and starting point position\n"
   ]
  },
  {
   "cell_type": "code",
   "execution_count": null,
   "metadata": {
    "colab": {
     "base_uri": "https://localhost:8080/"
    },
    "executionInfo": {
     "elapsed": 17669,
     "status": "ok",
     "timestamp": 1712996699798,
     "user": {
      "displayName": "Samuele Caldarini",
      "userId": "15893624415822210385"
     },
     "user_tz": -120
    },
    "id": "xjp0Svgu87Fa",
    "outputId": "65b95027-5517-44e4-b6ea-8ce2adc1a56d"
   },
   "outputs": [],
   "source": [
    "import tensorflow as tf\n",
    "import numpy as np\n",
    "import scipy.io\n",
    "import matplotlib.pyplot as plt\n",
    "import scipy.interpolate as spi\n",
    "\n",
    "#!pip -q install pyDOE\n",
    "\n",
    "from tensorflow import keras\n",
    "from tensorflow.keras import regularizers\n",
    "from pyDOE import lhs  # for latin hypercube sampling\n",
    "from tensorflow.keras.layers import Activation\n",
    "from tensorflow.keras.utils import get_custom_objects"
   ]
  },
  {
   "cell_type": "code",
   "execution_count": null,
   "metadata": {
    "executionInfo": {
     "elapsed": 10,
     "status": "ok",
     "timestamp": 1712996699798,
     "user": {
      "displayName": "Samuele Caldarini",
      "userId": "15893624415822210385"
     },
     "user_tz": -120
    },
    "id": "X0rkevoC4sai"
   },
   "outputs": [],
   "source": [
    "# set seed for reproducibility\n",
    "tf.random.set_seed(42)\n",
    "np.random.seed(42)"
   ]
  },
  {
   "cell_type": "code",
   "execution_count": 5,
   "metadata": {
    "executionInfo": {
     "elapsed": 8,
     "status": "ok",
     "timestamp": 1712996699798,
     "user": {
      "displayName": "Samuele Caldarini",
      "userId": "15893624415822210385"
     },
     "user_tz": -120
    },
    "id": "WmUjp08B87Fd"
   },
   "outputs": [],
   "source": [
    "# loading of the dataset\n",
    "CP2data = np.load(\"CP2data.npz\")['arr_0']"
   ]
  },
  {
   "cell_type": "markdown",
   "metadata": {
    "id": "YtTUPN-o87Fe"
   },
   "source": [
    "## Display one recording"
   ]
  },
  {
   "cell_type": "code",
   "execution_count": 14,
   "metadata": {
    "executionInfo": {
     "elapsed": 8,
     "status": "ok",
     "timestamp": 1712996699799,
     "user": {
      "displayName": "Samuele Caldarini",
      "userId": "15893624415822210385"
     },
     "user_tz": -120
    },
    "id": "0XWHZYk487Fe"
   },
   "outputs": [],
   "source": [
    "# Select an example recording for visualization\n",
    "ind_disp = 2  # Index of the sample to display\n",
    "x_meas = CP2data[ind_disp][0]  # X-coordinates of electrode measurements\n",
    "y_meas = CP2data[ind_disp][1]  # Y-coordinates of electrode measurements\n",
    "t_meas = CP2data[ind_disp][2]  # Activation times at each electrode"
   ]
  },
  {
   "cell_type": "code",
   "execution_count": 15,
   "metadata": {
    "colab": {
     "base_uri": "https://localhost:8080/",
     "height": 438
    },
    "executionInfo": {
     "elapsed": 418,
     "status": "ok",
     "timestamp": 1712996700209,
     "user": {
      "displayName": "Samuele Caldarini",
      "userId": "15893624415822210385"
     },
     "user_tz": -120
    },
    "id": "A4pQ2ezE87Ff",
    "outputId": "43da9186-635e-4cb6-f85c-081ece795233"
   },
   "outputs": [
    {
     "data": {
      "image/png": "[encoded data removed]",
      "text/plain": [
       "<Figure size 640x480 with 2 Axes>"
      ]
     },
     "metadata": {},
     "output_type": "display_data"
    }
   ],
   "source": [
    "# Scatter plot of activation times at measurement points\n",
    "plt.figure(1)\n",
    "plt.scatter( x_meas,  y_meas, c=t_meas, vmin= 0, vmax=np.max(t_meas) )\n",
    "plt.gca().set_aspect(1)\n",
    "plt.colorbar(label='Time [s]')\n",
    "plt.title(\"Measured Activation Times\")\n",
    "plt.show()"
   ]
  },
  {
   "cell_type": "code",
   "execution_count": 16,
   "metadata": {
    "executionInfo": {
     "elapsed": 6,
     "status": "ok",
     "timestamp": 1712996700209,
     "user": {
      "displayName": "Samuele Caldarini",
      "userId": "15893624415822210385"
     },
     "user_tz": -120
    },
    "id": "mRUXAXeM87Fg"
   },
   "outputs": [],
   "source": [
    "# loading of estimates\n",
    "CP2estimate = np.load(\"CP2estimate.npz\")['arr_0']"
   ]
  },
  {
   "cell_type": "code",
   "execution_count": 17,
   "metadata": {
    "executionInfo": {
     "elapsed": 6,
     "status": "ok",
     "timestamp": 1712996700209,
     "user": {
      "displayName": "Samuele Caldarini",
      "userId": "15893624415822210385"
     },
     "user_tz": -120
    },
    "id": "aGqCt8zV87Fi"
   },
   "outputs": [],
   "source": [
    "theta_true = CP2estimate[ind_disp][0]\n",
    "a_ratio_true  = CP2estimate[ind_disp][1]\n",
    "y0_true = CP2estimate[ind_disp][2]"
   ]
  },
  {
   "cell_type": "markdown",
   "metadata": {
    "id": "sHNElohz87Fy"
   },
   "source": [
    "## Signature of the function\n",
    "\n",
    "def checkpoint2_solution( x, y , t ):\n",
    "\n",
    "return theta_fiber, a_ratio, y0\n",
    "\n"
   ]
  },
  {
   "cell_type": "code",
   "execution_count": 10,
   "metadata": {
    "colab": {
     "base_uri": "https://localhost:8080/"
    },
    "executionInfo": {
     "elapsed": 2897,
     "status": "ok",
     "timestamp": 1712996703101,
     "user": {
      "displayName": "Samuele Caldarini",
      "userId": "15893624415822210385"
     },
     "user_tz": -120
    },
    "id": "JzFBWg695e0L",
    "outputId": "0ef50d28-3183-4b46-8fbb-d5884c1a66d4"
   },
   "outputs": [],
   "source": [
    "# Create a structured grid for interpolation (1501x1501 points in a square region)\n",
    "X1, Y1 = np.meshgrid(np.linspace(-1.5,1.5,1501), np.linspace(-1.5,1.5,1501))\n",
    "\n",
    "# Compute only activation time\n",
    "def checkpoint1_solution(x,y,t,X,Y):\n",
    "  \"\"\"\n",
    "    Function to interpolate activation times.\n",
    "    \n",
    "    Parameters:\n",
    "    x, y, t : Measured data points (positions and activation times)\n",
    "    X, Y    : Grid points where predictions are made\n",
    "    \n",
    "    Returns:\n",
    "    time_pred    : Interpolated activation time field\n",
    "    \"\"\"\n",
    "  # Interpolate activation times using radial basis function (thin plate spline)\n",
    "  interp = spi.RBFInterpolator(list(zip(x, y)), t, smoothing=0.1, kernel='thin_plate_spline', epsilon=1.5)\n",
    "  time_pred = interp(np.vstack((X.ravel(), Y.ravel())).T).reshape(X.shape)\n",
    "\n",
    "  return time_pred"
   ]
  },
  {
   "cell_type": "code",
   "execution_count": 18,
   "metadata": {},
   "outputs": [
    {
     "name": "stdout",
     "output_type": "stream",
     "text": [
      "-1.5\n"
     ]
    }
   ],
   "source": [
    "# Run the function on the selected data sample\n",
    "time_pred = checkpoint1_solution(CP2data[ind_disp][0], CP2data[ind_disp][1] , CP2data[ind_disp][2], X1 , Y1 )\n",
    "\n",
    "# Compute the guess for the starting point y0\n",
    "min_index = np.unravel_index(np.argmin(time_pred),time_pred.shape)[0]\n",
    "guess_y0 = np.linspace(-1.5,1.5,1501)[min_index] \n",
    "print(guess_y0)"
   ]
  },
  {
   "cell_type": "code",
   "execution_count": null,
   "metadata": {
    "executionInfo": {
     "elapsed": 7,
     "status": "ok",
     "timestamp": 1712996703102,
     "user": {
      "displayName": "Samuele Caldarini",
      "userId": "15893624415822210385"
     },
     "user_tz": -120
    },
    "id": "QxJK4o5V8NZs"
   },
   "outputs": [],
   "source": [
    "# Create a class for the specific activation function\n",
    "class Mish(Activation):\n",
    "    def __init__(self, activation, **kwargs):\n",
    "        super(Mish, self).__init__(activation, **kwargs)\n",
    "        self.__name__ = 'mish'\n",
    "\n",
    "def mish(inputs):\n",
    "    return inputs * tf.math.tanh(tf.math.softplus(inputs))\n",
    "\n",
    "get_custom_objects().update({'mish': Mish(mish)})"
   ]
  },
  {
   "cell_type": "code",
   "execution_count": null,
   "metadata": {
    "executionInfo": {
     "elapsed": 309,
     "status": "ok",
     "timestamp": 1712996703405,
     "user": {
      "displayName": "Samuele Caldarini",
      "userId": "15893624415822210385"
     },
     "user_tz": -120
    },
    "id": "jus3sKM95sEa"
   },
   "outputs": [],
   "source": [
    "# Construct the necessary functions for PINN\n",
    "\n",
    "# Function to apply penalty constraints on parameters\n",
    "def penalty(param, lower_bound, upper_bound):\n",
    "    \"\"\"\n",
    "    Computes a penalty term that ensures the parameter values stay within specified bounds.\n",
    "    \n",
    "    Parameters:\n",
    "    param: TensorFlow tensor - the parameter to constrain\n",
    "    lower_bound: float - minimum allowed value for the parameter\n",
    "    upper_bound: float - maximum allowed value for the parameter\n",
    "    \n",
    "    Returns:\n",
    "    Penalty value (sum of squared violations beyond the bounds)\n",
    "    \"\"\"\n",
    "    return tf.reduce_sum(tf.square(tf.maximum(param - upper_bound, 0)) + tf.square(tf.maximum(lower_bound - param, 0)))\n",
    "\n",
    "\n",
    "\n",
    "# PINN loss function\n",
    "def loss(xcl, ycl, x_meas, y_meas, t_meas, param):\n",
    "    \"\"\"\n",
    "    Computes the loss for the Physics-Informed Neural Network (PINN).\n",
    "\n",
    "    Parameters:\n",
    "    xcl, ycl: Tensors - collocation points for enforcing physics constraints\n",
    "    x_meas, y_meas: Tensors - measurement locations\n",
    "    t_meas: Tensor - measured activation times\n",
    "    param: Tensor - model parameters\n",
    "\n",
    "    Returns:\n",
    "    Total loss value combining measurement error, residual loss, initial condition loss, and parameter penalties\n",
    "    \"\"\"\n",
    "    # Predicted activation times at measured points\n",
    "    t_meas_pred = PINN(tf.concat([x_meas, y_meas], 1))\n",
    "\n",
    "    # Residual loss enforcing PDE constraints\n",
    "    r_pred = r_PINN(xcl, ycl, param)\n",
    "\n",
    "    # Loss for satisfying initial conditions\n",
    "    r_stat = s_PINN(param)\n",
    "\n",
    "    # Compute different components of the loss function\n",
    "    mse_meas = tf.reduce_mean(tf.pow(t_meas - t_meas_pred, 2))  # Mean squared error for measurements\n",
    "    mse_r = tf.reduce_mean(tf.pow(r_pred, 2))  # Residual loss\n",
    "    mse_start = tf.reduce_mean(tf.pow(r_stat, 2))  # Initial state loss\n",
    "\n",
    "    # Parameter penalties to enforce constraints on model parameters\n",
    "    mse_penalty = (penalty(param[0], -np.pi/10, np.pi/10) + \n",
    "                   penalty(param[1], 1, 9) + \n",
    "                   penalty(param[2], -1.5, 1.5))\n",
    "\n",
    "    # Total loss is the sum of all components\n",
    "    return mse_r + mse_meas + mse_start + mse_penalty\n",
    "\n",
    "\n",
    "@tf.function\n",
    "def grad(model,xcl,ycl,x_meas,y_meas,t_meas,param):\n",
    "    \"\"\"\n",
    "    Computes the gradient of the loss function with respect to both model parameters and trainable variables.\n",
    "\n",
    "    Parameters:\n",
    "    model: TensorFlow model - PINN\n",
    "    xcl, ycl: Tensors - collocation points\n",
    "    x_meas, y_meas: Tensors - measurement locations\n",
    "    t_meas: Tensor - measured activation times\n",
    "    param: Tensor - model parameters\n",
    "\n",
    "    Returns:\n",
    "    loss_value: Computed loss\n",
    "    grads: Gradients wrt trainable model parameters\n",
    "    grad_param: Gradients wrt additional parameters\n",
    "    \"\"\"\n",
    "    with tf.GradientTape(persistent=True) as tape:\n",
    "        loss_value = loss(xcl,ycl,x_meas,y_meas,t_meas,param)\n",
    "        grads = tape.gradient(loss_value,model.trainable_variables)  # Compute gradients wrt model parameters\n",
    "        grad_param =  tape.gradient(loss_value,param) # Compute gradients wrt extra parameters\n",
    "    return loss_value, grads, grad_param\n",
    "\n",
    "# Regularization strength\n",
    "reg= 1e-3\n",
    "\n",
    "# Define the Physics-Informed Neural Network (PINN) model\n",
    "PINN = tf.keras.Sequential([\n",
    "    tf.keras.layers.Dense(64, activation='tanh',input_shape=(2,),kernel_initializer=\"glorot_normal\", kernel_regularizer=regularizers.l2(reg), dtype=tf.float64),\n",
    "    tf.keras.layers.Dense(64, activation='mish',kernel_initializer=\"glorot_normal\",kernel_regularizer=regularizers.l2(reg),dtype=tf.float64),\n",
    "    tf.keras.layers.Dense(64, activation='tanh',kernel_initializer=\"glorot_normal\",kernel_regularizer=regularizers.l2(reg),dtype=tf.float64),\n",
    "    tf.keras.layers.Dense(1,activation=None,kernel_initializer=\"glorot_normal\",kernel_regularizer=regularizers.l2(reg),dtype=tf.float64)\n",
    "])\n",
    "\n",
    "\n",
    "@tf.function\n",
    "def r_PINN(x, y, param):\n",
    "    \"\"\"\n",
    "    Computes the residual term enforcing the physics constraints in the PINN model.\n",
    "\n",
    "    Parameters:\n",
    "    x, y: Tensors - spatial coordinates\n",
    "    param: Tensor - model parameters (mu1, mu2, mu3)\n",
    "\n",
    "    Returns:\n",
    "    Residual term enforcing the PDE constraints\n",
    "    \"\"\"\n",
    "    # Compute predicted activation time from PINN\n",
    "    u = PINN(tf.concat([x, y], 1))\n",
    "\n",
    "    # Extract parameters\n",
    "    pitf = tf.cast(np.pi/2, dtype=tf.float64)\n",
    "    mu1, mu2, _ = param[0], param[1], tf.cast(param[2], dtype=tf.float32)\n",
    "\n",
    "    # Compute rotation matrix components\n",
    "    theta0 = pitf - mu1\n",
    "    a = tf.cast(tf.stack([tf.cos(theta0), tf.sin(theta0)], axis=-1), dtype=tf.float64)\n",
    "    b = tf.cast(tf.stack([tf.cos(theta0 - pitf), tf.sin(theta0 - pitf)], axis=-1), dtype=tf.float64)\n",
    "\n",
    "    # Diffusion tensor computation\n",
    "    D_00 = 1 / mu2 * a[0]**2 + b[0]**2\n",
    "    D_01 = 1 / mu2 * a[0] * a[1] + b[0] * b[1]\n",
    "    D_10 = D_01\n",
    "    D_11 = 1 / mu2 * a[1]**2 + b[1]**2\n",
    "\n",
    "    # Compute gradients of u w.r.t. x and y\n",
    "    u_x = tf.gradients(u, x)[0]\n",
    "    u_y = tf.gradients(u, y)[0]\n",
    "\n",
    "    # Compute residual enforcing PDE constraints\n",
    "    return tf.sqrt((u_x * D_00 * u_x + u_x * D_01 * u_y + u_y * D_10 * u_x + u_y * D_11 * u_y)) - 1/100\n",
    "\n",
    "\n",
    "@tf.function\n",
    "def s_PINN(param):\n",
    "    \"\"\"\n",
    "    Computes an initial condition constraint for the PINN.\n",
    "\n",
    "    Parameters:\n",
    "    param: Tensor - model parameters\n",
    "\n",
    "    Returns:\n",
    "    Constraint value at a specific point\n",
    "    \"\"\"\n",
    "    mu3 = tf.cast(param[2], dtype=tf.float32)\n",
    "\n",
    "    # Set fixed coordinates for initial condition\n",
    "    xst = tf.expand_dims([1.5], axis=-1)\n",
    "    yst = tf.expand_dims([mu3], axis=-1)\n",
    "\n",
    "    # Compute loss at the initial condition point\n",
    "    loss = PINN(tf.concat([xst, yst], 1))\n",
    "    return loss\n",
    "\n",
    "# Function to print parameter values during training\n",
    "def print_param(param):\n",
    "    \"\"\"\n",
    "    Prints the values of the model parameters.\n",
    "\n",
    "    Parameters:\n",
    "    param: List of TensorFlow tensors - model parameters\n",
    "    \"\"\"\n",
    "    for pa in param:\n",
    "        print(f\"Parameter Value: {pa.numpy()}\")\n",
    "    print(\"-\" * 50)"
   ]
  },
  {
   "cell_type": "code",
   "execution_count": null,
   "metadata": {
    "colab": {
     "base_uri": "https://localhost:8080/",
     "height": 487
    },
    "executionInfo": {
     "elapsed": 123875,
     "status": "error",
     "timestamp": 1712996827277,
     "user": {
      "displayName": "Samuele Caldarini",
      "userId": "15893624415822210385"
     },
     "user_tz": -120
    },
    "id": "CG-xa5eS87F1",
    "outputId": "6f264e76-2fea-4d01-da3c-dd68ba55e25a"
   },
   "outputs": [],
   "source": [
    "def checkpoint2_solution( x, y, t):\n",
    "    \"\"\"\n",
    "    Trains a Physics-Informed Neural Network (PINN) to estimate parameters based on measurement data.\n",
    "\n",
    "    Parameters:\n",
    "    x, y: Tensors - Spatial coordinates of measurement points\n",
    "    t: Tensor - Corresponding measured activation times\n",
    "\n",
    "    Returns:\n",
    "    theta_fiber: Tensor - Estimated fiber orientation parameter\n",
    "    a_ratio: Tensor - Estimated anisotropy ratio parameter\n",
    "    y0: Tensor - Estimated initial y-coordinate parameter\n",
    "    \"\"\"\n",
    "    # Expand dimensions to match expected input shape for the neural network\n",
    "    x_meas = tf.expand_dims(x,axis= -1)\n",
    "    y_meas = tf.expand_dims(y,axis= -1)\n",
    "    t_meas = tf.expand_dims(t,axis= -1)\n",
    "\n",
    "    # Generate collocation points using Sobol sampling for PDE constraints\n",
    "    sampler = scipy.stats.qmc.Sobol(d=2, scramble=False)\n",
    "    sample = sampler.random_base2(m=14) # Generate 2^14 quasi-random samples\n",
    "    \n",
    "    # Define the sampling bounds for spatial domain\n",
    "    l_bounds = [-1.5, -1.5]  # Lower bounds\n",
    "    u_bounds = [1.5, 1.5]  # Upper bounds \n",
    "\n",
    "    # Scale Sobol samples to fit within the defined bounds\n",
    "    X =scipy.stats.qmc.scale(sample, l_bounds, u_bounds)\n",
    "\n",
    "    # Extract x and y coordinates from scaled sample and convert to TensorFlow tensors\n",
    "    xcl = tf.expand_dims(tf.cast(X[:,0],dtype=tf.float64),axis=-1)\n",
    "    ycl = tf.expand_dims(tf.cast(X[:,1],dtype=tf.float64),axis=-1)\n",
    "\n",
    "    # Define the optimizer (Adam)\n",
    "    tf_optimizer = tf.keras.optimizers.Adam(learning_rate=0.001,beta_1=0.99)\n",
    "\n",
    "    # Initialize trainable parameters for the PINN\n",
    "    m1 = tf.Variable(0.01, trainable=True, dtype=tf.float64)  # Initial guess for theta_fiber\n",
    "    m2 = tf.Variable(4.0, trainable=True, dtype=tf.float64)   # Initial guess for anisotropy ratio\n",
    "    m3 = tf.Variable(guess_y0, trainable=True, dtype=tf.float64)  # Initial guess for y0\n",
    "\n",
    "    param = [m1, m2, m3]\n",
    "\n",
    "    # Training loop\n",
    "    for iter in range(10000):\n",
    "      # Compute gradients of the loss function wrt model parameters\n",
    "      loss_value,grads,grad_param = grad(PINN,xcl,ycl,x_meas,y_meas,t_meas,param)\n",
    "\n",
    "      # Update both network weights and parameter variables\n",
    "      tf_optimizer.apply_gradients(zip(grads+grad_param,PINN.trainable_variables+param))\n",
    "\n",
    "      # Print progress every 200 iterations\n",
    "      if ((iter+1) % 200 == 0):\n",
    "        print('iter =  '+str(iter+1))\n",
    "        print('loss = ',loss_value)\n",
    "        print_param(param)\n",
    "\n",
    "    # Extract final trained parameters\n",
    "    theta_fiber, a_ratio, y0 = param\n",
    "    return theta_fiber, a_ratio, y0\n",
    "\n",
    "# Run the training function with given measurement data\n",
    "theta_fiber, a_ratio, y0 = checkpoint2_solution(x_meas, y_meas, t_meas)"
   ]
  }
 ],
 "metadata": {
  "accelerator": "GPU",
  "colab": {
   "gpuType": "T4",
   "provenance": [
    {
     "file_id": "199RUc-GPDhdEyoC86pjoNAvn7MuWl6nx",
     "timestamp": 1712312414035
    }
   ]
  },
  "kernelspec": {
   "display_name": ".conda",
   "language": "python",
   "name": "python3"
  },
  "language_info": {
   "codemirror_mode": {
    "name": "ipython",
    "version": 3
   },
   "file_extension": ".py",
   "mimetype": "text/x-python",
   "name": "python",
   "nbconvert_exporter": "python",
   "pygments_lexer": "ipython3",
   "version": "3.8.19"
  }
 },
 "nbformat": 4,
 "nbformat_minor": 0
}
